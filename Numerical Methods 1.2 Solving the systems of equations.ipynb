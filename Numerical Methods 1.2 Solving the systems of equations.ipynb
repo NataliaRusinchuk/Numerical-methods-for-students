{
  "nbformat": 4,
  "nbformat_minor": 0,
  "metadata": {
    "colab": {
      "provenance": [],
      "collapsed_sections": [
        "_mUjBPwe3qEb",
        "ecTpp2jGeAIt",
        "cnXG71-gfg7R"
      ],
      "authorship_tag": "ABX9TyNX6rBbuXj8lUJits0MGC6m",
      "include_colab_link": true
    },
    "kernelspec": {
      "name": "python3",
      "display_name": "Python 3"
    },
    "language_info": {
      "name": "python"
    }
  },
  "cells": [
    {
      "cell_type": "markdown",
      "metadata": {
        "id": "view-in-github",
        "colab_type": "text"
      },
      "source": [
        "<a href=\"https://colab.research.google.com/github/NataliaRusinchuk/Numerical-methods-for-students/blob/main/Numerical%20Methods%201.2%20Solving%20the%20systems%20of%20equations.ipynb\" target=\"_parent\"><img src=\"https://colab.research.google.com/assets/colab-badge.svg\" alt=\"Open In Colab\"/></a>"
      ]
    },
    {
      "cell_type": "markdown",
      "source": [
        "# Classes for systems of equations"
      ],
      "metadata": {
        "id": "PnHKwwFY3kQt"
      }
    },
    {
      "cell_type": "code",
      "execution_count": null,
      "metadata": {
        "id": "KQQU5osNz5c7"
      },
      "outputs": [],
      "source": [
        "import numpy as np\n",
        "import time\n",
        "from scipy.misc import derivative\n",
        "\n",
        "\n",
        "class SystemEq():\n",
        "  def __init__(self, A, B):\n",
        "    \"\"\"\n",
        "    A - np.ndarray\n",
        "        matrix of coefficients\n",
        "    B - matrix вільних членів\n",
        "    \"\"\"\n",
        "    self.A = A\n",
        "    self.B = B\n",
        "    # Number of equations in the system\n",
        "    self.length = self.B.size\n",
        "\n",
        "  def function_iter(self, i):\n",
        "    return lambda X: (- np.sum(self.A[i]*X) + self.B[i]) / self.A[i,i] + X[i]\n",
        "  \n",
        "  def simple_iter(self, maxiter = 1000, error = 1e-5):\n",
        "    X0 = np.ones((self.length))\n",
        "    X1 = np.zeros((self.length))\n",
        "    answer = False\n",
        "    for _ in range(maxiter):\n",
        "      for i in range(self.length):\n",
        "        X1[i] = self.function_iter(i)(X0)\n",
        "        #print(X1-X0)\n",
        "      if abs(max(X1-X0)) < error:\n",
        "        answer = True\n",
        "        break\n",
        "      elif abs(min(X1-X0)) > 1e6:\n",
        "        break\n",
        "      X0 = np.array(X1)\n",
        "    if answer:\n",
        "      return (X1)\n",
        "    else:\n",
        "      print(\"Method could not solve the system\")\n",
        "      return (None)\n",
        "\n",
        "\n",
        "  def execution_time(self, method):\n",
        "    t_start = time.time()\n",
        "    for _ in range(1000):\n",
        "        method()\n",
        "    t_end = time.time()\n",
        "    return (t_end - t_start)\n",
        "\n",
        "\n",
        "\n",
        "class LinearSystem(SystemEq):\n",
        "\n",
        "  def gauss(self):\n",
        "    return np.linalg.solve(self.A, self.B)\n",
        "\n",
        "\n",
        "\n",
        "class NonLinearSystem(SystemEq):\n",
        "  def __init__(self, functions):\n",
        "    self.functions = functions\n",
        "    self.length = len(functions)\n",
        "    self.A = None\n",
        "    self.B = None\n",
        "\n",
        "  def function_iter(self, i, kof=100):\n",
        "    return lambda X: X[i] - self.functions[i](X)/kof\n",
        "\n",
        "  def newton(self, maxiter = 1000, error = 1e-5):\n",
        "    X0 = np.ones((self.length))\n",
        "    X1 = np.zeros((self.length))\n",
        "    answer = False\n",
        "    for _ in range(maxiter):\n",
        "      J = np.zeros((self.length, self.length))\n",
        "      F = np.zeros((self.length))\n",
        "      for i in range(self.length):\n",
        "        F[i] = self.functions[i](X0)\n",
        "        for j in range(self.length):\n",
        "          J[i,j] = derivative(\n",
        "              # Функції є функціями від векторів\n",
        "              # Для диференціювання потрібні функції від змінних\n",
        "              # np.concatenate((X0[:j], [x], X0[j+1:])) - вектор, \n",
        "              # де всі відомі крім одного: спочатку [x, 1, 1],\n",
        "              # потім [1, y, 1], потім [1, 1, z]\n",
        "              lambda x: self.functions[i](np.concatenate((X0[:j], [x], X0[j+1:]))), \n",
        "              X0[j], \n",
        "              0.001\n",
        "          )\n",
        "      try:\n",
        "        X1 = X0 - np.matmul(np.linalg.inv(J), F)\n",
        "      except Exception as e:\n",
        "        print(e)\n",
        "        break\n",
        "      if abs(max(X1-X0)) < error:\n",
        "        answer = True\n",
        "        break\n",
        "      elif abs(min(X1-X0)) > 1e6:\n",
        "        break\n",
        "      X0 = np.array(X1)\n",
        "    if answer:\n",
        "      return (X1)\n",
        "    else:\n",
        "      print(\"Method could not solve the system\")\n",
        "      return (None)\n",
        "\n",
        "  def simple_newton(self, maxiter = 1000, error = 1e-5):\n",
        "    X0 = np.ones((self.length))\n",
        "    X1 = np.zeros((self.length))\n",
        "    answer = False\n",
        "    J = np.zeros((self.length, self.length))\n",
        "    for i in range(self.length):\n",
        "      for j in range(self.length):\n",
        "          J[i,j] = derivative(\n",
        "              lambda x: self.functions[i](np.concatenate((X0[:j], [x], X0[j+1:]))), \n",
        "              X0[j], \n",
        "              0.001\n",
        "          )\n",
        "    for _ in range(maxiter):\n",
        "      F = np.zeros((self.length))\n",
        "      for i in range(self.length):\n",
        "        F[i] = self.functions[i](X0)  \n",
        "      try:\n",
        "        X1 = X0 - np.matmul(np.linalg.inv(J), F)\n",
        "      except Exception as e:\n",
        "        print(e)\n",
        "        break\n",
        "      if abs(max(X1-X0)) < error:\n",
        "        answer = True\n",
        "        break\n",
        "      elif abs(min(X1-X0)) > 1e6:\n",
        "        break\n",
        "      X0 = np.array(X1)\n",
        "    if answer:\n",
        "      return (X1)\n",
        "    else:\n",
        "      print(\"Method could not solve the system\")\n",
        "      return (None)"
      ]
    },
    {
      "cell_type": "markdown",
      "source": [
        "# Examples"
      ],
      "metadata": {
        "id": "_mUjBPwe3qEb"
      }
    },
    {
      "cell_type": "code",
      "source": [
        "A = np.array([\n",
        "    [10, 2, 0], \n",
        "    [5, -30, 1], \n",
        "    [1, 2, 30]\n",
        "])\n",
        "B = np.array([9, 7, 12])\n",
        "eq_linear = LinearSystem(A, B)"
      ],
      "metadata": {
        "id": "Ilchw9zb16dA"
      },
      "execution_count": null,
      "outputs": []
    },
    {
      "cell_type": "code",
      "source": [
        "eq_linear.gauss()"
      ],
      "metadata": {
        "colab": {
          "base_uri": "https://localhost:8080/"
        },
        "id": "HGBNKnjUdNoU",
        "outputId": "4e4ac543-cbd7-4dc4-8df4-17be4fe35fd8"
      },
      "execution_count": null,
      "outputs": [
        {
          "output_type": "execute_result",
          "data": {
            "text/plain": [
              "array([ 0.91371539, -0.06857695,  0.37411462])"
            ]
          },
          "metadata": {},
          "execution_count": 3
        }
      ]
    },
    {
      "cell_type": "code",
      "source": [
        "eq_linear.simple_iter()"
      ],
      "metadata": {
        "colab": {
          "base_uri": "https://localhost:8080/"
        },
        "id": "4FBP770OdWAc",
        "outputId": "cbec9f1b-6fd3-44fd-8739-c5bb2a58cd71"
      },
      "execution_count": null,
      "outputs": [
        {
          "output_type": "execute_result",
          "data": {
            "text/plain": [
              "array([ 0.91371553, -0.06857521,  0.37411434])"
            ]
          },
          "metadata": {},
          "execution_count": 4
        }
      ]
    },
    {
      "cell_type": "code",
      "source": [
        "eq_linear.execution_time(eq_linear.gauss)"
      ],
      "metadata": {
        "colab": {
          "base_uri": "https://localhost:8080/"
        },
        "id": "1oXkOTWGdbBx",
        "outputId": "6f6100e3-9e9f-4ffb-aba8-0b39a8b88c6c"
      },
      "execution_count": null,
      "outputs": [
        {
          "output_type": "execute_result",
          "data": {
            "text/plain": [
              "0.012694835662841797"
            ]
          },
          "metadata": {},
          "execution_count": 5
        }
      ]
    },
    {
      "cell_type": "code",
      "source": [
        "eq_linear.execution_time(eq_linear.simple_iter)"
      ],
      "metadata": {
        "colab": {
          "base_uri": "https://localhost:8080/"
        },
        "id": "kBgqgNDmduvO",
        "outputId": "1b4a76d7-b6c5-4abf-b0bc-1bcaeb8713c5"
      },
      "execution_count": null,
      "outputs": [
        {
          "output_type": "execute_result",
          "data": {
            "text/plain": [
              "0.25916051864624023"
            ]
          },
          "metadata": {},
          "execution_count": 6
        }
      ]
    },
    {
      "cell_type": "markdown",
      "source": [
        "# Linear random systems"
      ],
      "metadata": {
        "id": "ecTpp2jGeAIt"
      }
    },
    {
      "cell_type": "code",
      "source": [
        "size = 10\n",
        "A = np.random.rand(size, size)\n",
        "B = np.random.rand(size)\n",
        "system = LinearSystem(A, B)\n",
        "system.execution_time(system.gauss)"
      ],
      "metadata": {
        "colab": {
          "base_uri": "https://localhost:8080/"
        },
        "id": "wfHYvHW4dyD-",
        "outputId": "db04ce86-825b-4592-c9db-dc208da4c978"
      },
      "execution_count": null,
      "outputs": [
        {
          "output_type": "execute_result",
          "data": {
            "text/plain": [
              "0.01887369155883789"
            ]
          },
          "metadata": {},
          "execution_count": 22
        }
      ]
    },
    {
      "cell_type": "code",
      "source": [
        "# Метод не може бути застосований до цієї системи\n",
        "system.simple_iter()"
      ],
      "metadata": {
        "colab": {
          "base_uri": "https://localhost:8080/"
        },
        "id": "JgC4piHgfPzY",
        "outputId": "259fe0d6-a8b8-4fc8-d812-b330ea90c443"
      },
      "execution_count": null,
      "outputs": [
        {
          "output_type": "stream",
          "name": "stdout",
          "text": [
            "Method could not solve the system\n"
          ]
        }
      ]
    },
    {
      "cell_type": "code",
      "source": [
        "size = 20\n",
        "A = np.random.rand(size, size)\n",
        "B = np.random.rand(size)\n",
        "system = LinearSystem(A, B)\n",
        "system.execution_time(system.gauss)"
      ],
      "metadata": {
        "colab": {
          "base_uri": "https://localhost:8080/"
        },
        "id": "12FYRwjXePxE",
        "outputId": "786d630b-e591-4c51-e677-073273f9c685"
      },
      "execution_count": null,
      "outputs": [
        {
          "output_type": "execute_result",
          "data": {
            "text/plain": [
              "0.04140162467956543"
            ]
          },
          "metadata": {},
          "execution_count": 20
        }
      ]
    },
    {
      "cell_type": "code",
      "source": [
        "size = 100\n",
        "A = np.random.rand(size, size)\n",
        "B = np.random.rand(size)\n",
        "system = LinearSystem(A, B)\n",
        "system.execution_time(system.gauss)"
      ],
      "metadata": {
        "colab": {
          "base_uri": "https://localhost:8080/"
        },
        "id": "ul3d0tiveY2J",
        "outputId": "96b7481f-b834-4e75-a38b-02c4884a58f0"
      },
      "execution_count": null,
      "outputs": [
        {
          "output_type": "execute_result",
          "data": {
            "text/plain": [
              "0.2253735065460205"
            ]
          },
          "metadata": {},
          "execution_count": 19
        }
      ]
    },
    {
      "cell_type": "markdown",
      "source": [
        "# Linear diagonal systems"
      ],
      "metadata": {
        "id": "cnXG71-gfg7R"
      }
    },
    {
      "cell_type": "code",
      "source": [
        "size = 10\n",
        "A = np.random.rand(size, size)\n",
        "for i in range(size):\n",
        "  A[i, i] *= 100\n",
        "B = np.random.rand(size)\n",
        "system = LinearSystem(A, B)\n",
        "system.execution_time(system.gauss)"
      ],
      "metadata": {
        "colab": {
          "base_uri": "https://localhost:8080/"
        },
        "id": "TD4iB3Lae5lr",
        "outputId": "74f9f263-2653-427c-bfda-f1b91c941f1c"
      },
      "execution_count": null,
      "outputs": [
        {
          "output_type": "execute_result",
          "data": {
            "text/plain": [
              "0.0153350830078125"
            ]
          },
          "metadata": {},
          "execution_count": 25
        }
      ]
    },
    {
      "cell_type": "code",
      "source": [
        "# Таку систему ми можемо розв'язати\n",
        "system.simple_iter()"
      ],
      "metadata": {
        "colab": {
          "base_uri": "https://localhost:8080/"
        },
        "id": "71bldy4kfu9E",
        "outputId": "c4b0116f-9521-44a4-d836-0bae3d5a664a"
      },
      "execution_count": null,
      "outputs": [
        {
          "output_type": "execute_result",
          "data": {
            "text/plain": [
              "array([ 0.01349859,  0.00097851, -0.00075072,  0.0034292 ,  0.00167476,\n",
              "        0.0162442 ,  0.03482978, -0.00104137,  0.0044496 ,  0.0261682 ])"
            ]
          },
          "metadata": {},
          "execution_count": 26
        }
      ]
    },
    {
      "cell_type": "code",
      "source": [
        "# Перевіримо час виконання\n",
        "system.execution_time(system.simple_iter)"
      ],
      "metadata": {
        "colab": {
          "base_uri": "https://localhost:8080/"
        },
        "id": "Fed-JeXIfxXo",
        "outputId": "f46a436d-ee1b-4b1f-91eb-e034a6083e0e"
      },
      "execution_count": null,
      "outputs": [
        {
          "output_type": "execute_result",
          "data": {
            "text/plain": [
              "0.838782548904419"
            ]
          },
          "metadata": {},
          "execution_count": 28
        }
      ]
    },
    {
      "cell_type": "code",
      "source": [
        "size = 20\n",
        "A = np.random.rand(size, size)\n",
        "for i in range(size):\n",
        "  A[i, i] *= 100\n",
        "B = np.random.rand(size)\n",
        "system = LinearSystem(A, B)\n",
        "system.execution_time(system.simple_iter)"
      ],
      "metadata": {
        "colab": {
          "base_uri": "https://localhost:8080/"
        },
        "id": "gy7jhi4zf_mw",
        "outputId": "ea920330-f5c9-4f5b-a033-ca3478fa1e63"
      },
      "execution_count": null,
      "outputs": [
        {
          "output_type": "execute_result",
          "data": {
            "text/plain": [
              "2.9779515266418457"
            ]
          },
          "metadata": {},
          "execution_count": 29
        }
      ]
    },
    {
      "cell_type": "code",
      "source": [
        "size = 100\n",
        "A = np.random.rand(size, size)\n",
        "for i in range(size):\n",
        "  A[i, i] *= 1000\n",
        "B = np.random.rand(size)\n",
        "system = LinearSystem(A, B)\n",
        "system.execution_time(system.simple_iter)"
      ],
      "metadata": {
        "colab": {
          "base_uri": "https://localhost:8080/"
        },
        "id": "ADIsCyrNgFTf",
        "outputId": "4c0f0cee-20d4-49e1-e49e-b51d6f9e0063"
      },
      "execution_count": null,
      "outputs": [
        {
          "output_type": "execute_result",
          "data": {
            "text/plain": [
              "15.343128204345703"
            ]
          },
          "metadata": {},
          "execution_count": 31
        }
      ]
    },
    {
      "cell_type": "markdown",
      "source": [
        "# Nonlinear system"
      ],
      "metadata": {
        "id": "eixFPaA1gWAu"
      }
    },
    {
      "cell_type": "code",
      "source": [
        "# Задаємо функції як залежні від вектору\n",
        "# (x, y, z) = X\n",
        "# x = X[0]\n",
        "# y = X[1]\n",
        "# z = X[2]\n",
        "\n",
        "def eq_1(X):\n",
        "  return X[0]**2 - 400*X[0]*X[1] - 1200\n",
        "\n",
        "def eq_2(X):\n",
        "  return X[0]*X[1] - 40*X[0]*X[2] - 80\n",
        "\n",
        "def eq_3(X):\n",
        "  return X[0] + 20*X[1] + 50*X[0]*np.sqrt(abs(X[2])) - 45\n",
        "\n",
        "eqs = (eq_1, eq_2, eq_3)\n",
        "\n",
        "nonlin_eq = NonLinearSystem(eqs)"
      ],
      "metadata": {
        "id": "xlnrWn9ngLuN"
      },
      "execution_count": null,
      "outputs": []
    },
    {
      "cell_type": "code",
      "source": [
        "nonlin_eq.simple_iter()"
      ],
      "metadata": {
        "colab": {
          "base_uri": "https://localhost:8080/"
        },
        "id": "56Ge9__Lh1_a",
        "outputId": "990bbd0b-c001-4ded-e268-eda5ee83d853"
      },
      "execution_count": null,
      "outputs": [
        {
          "output_type": "stream",
          "name": "stdout",
          "text": [
            "Method could not solve the system\n"
          ]
        }
      ]
    },
    {
      "cell_type": "code",
      "source": [
        "nonlin_eq.newton()"
      ],
      "metadata": {
        "colab": {
          "base_uri": "https://localhost:8080/"
        },
        "id": "4PkrsjsDh7xR",
        "outputId": "bc395e76-f3f3-4c4f-cb01-8f9a415153c8"
      },
      "execution_count": null,
      "outputs": [
        {
          "output_type": "execute_result",
          "data": {
            "text/plain": [
              "array([ 1.41898879, -2.11063413, -1.46222026])"
            ]
          },
          "metadata": {},
          "execution_count": 39
        }
      ]
    },
    {
      "cell_type": "code",
      "source": [
        "nonlin_eq.execution_time(nonlin_eq.newton)"
      ],
      "metadata": {
        "colab": {
          "base_uri": "https://localhost:8080/"
        },
        "id": "fja4QsB3i2b6",
        "outputId": "b8997f1e-e3e0-4079-b4b7-a116c7d5edfc"
      },
      "execution_count": null,
      "outputs": [
        {
          "output_type": "execute_result",
          "data": {
            "text/plain": [
              "5.258514165878296"
            ]
          },
          "metadata": {},
          "execution_count": 41
        }
      ]
    },
    {
      "cell_type": "code",
      "source": [
        "nonlin_eq.simple_newton()"
      ],
      "metadata": {
        "colab": {
          "base_uri": "https://localhost:8080/"
        },
        "id": "Vu-RnbHwiSz4",
        "outputId": "212f20e9-286a-4f2e-cf6a-5b34ff608e45"
      },
      "execution_count": null,
      "outputs": [
        {
          "output_type": "stream",
          "name": "stdout",
          "text": [
            "Method could not solve the system\n"
          ]
        }
      ]
    }
  ]
}